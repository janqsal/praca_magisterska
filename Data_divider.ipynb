{
 "cells": [
  {
   "cell_type": "code",
   "execution_count": 1,
   "id": "c69462dd-cff8-4d39-9f5c-49b53dd92a76",
   "metadata": {},
   "outputs": [],
   "source": [
    "import os\n",
    "import random\n",
    "import shutil\n"
   ]
  },
  {
   "cell_type": "code",
   "execution_count": 2,
   "id": "8eb8a87a-6ce6-42b4-91d0-535aa890a5ba",
   "metadata": {},
   "outputs": [],
   "source": [
    "def divide_image_data(input_path, output_path, percentage):\n",
    "    \"\"\"\n",
    "    Dzieli zbiór danych z obrazami na podstawie podanych parametrów.\n",
    "\n",
    "    Args:\n",
    "        input_path (str): Ścieżka do folderu zawierającego dane wejściowe.\n",
    "        output_path (str): Ścieżka do folderu docelowego, gdzie zostaną zapisane podzielone dane.\n",
    "        percentage (float): Procent danych, który ma być przeniesiony do nowego folderu.\n",
    "\n",
    "    Returns:\n",
    "        None\n",
    "    \"\"\"\n",
    "    classes = [folder for folder in os.listdir(input_path) if os.path.isdir(os.path.join(input_path, folder))]\n",
    "    \n",
    "    for cls in classes:\n",
    "        class_path = os.path.join(input_path, cls)\n",
    "        files = [file for file in os.listdir(class_path) if os.path.isfile(os.path.join(class_path, file))]\n",
    "        num_files_to_move = int(len(files) * percentage)\n",
    "        selected_files = random.sample(files, num_files_to_move)\n",
    "        \n",
    "        output_class_path = os.path.join(output_path, cls)\n",
    "        os.makedirs(output_class_path, exist_ok=True)\n",
    "        for file in selected_files:\n",
    "            shutil.copy(os.path.join(class_path, file), output_class_path)\n"
   ]
  },
  {
   "cell_type": "code",
   "execution_count": 6,
   "id": "f92ef7d3-9978-4a45-ab55-c6182ab90f33",
   "metadata": {},
   "outputs": [],
   "source": [
    "input_path = r\"C:\\Users\\Jan\\SGH\\magisterka\\dane\\brain_tumor_mri_cropped\"\n",
    "output_path = r\"C:\\Users\\Jan\\SGH\\magisterka\\dane\\brain_tumor_mri_cropped-10\"\n",
    "percentage = 0.1"
   ]
  },
  {
   "cell_type": "code",
   "execution_count": 7,
   "id": "23151a94-00a3-4474-a33f-f166c9d5ede7",
   "metadata": {},
   "outputs": [],
   "source": [
    "divide_image_data(input_path, output_path, percentage)"
   ]
  },
  {
   "cell_type": "code",
   "execution_count": null,
   "id": "af3380a5-c18c-4b45-9656-221cb90dd680",
   "metadata": {},
   "outputs": [],
   "source": []
  },
  {
   "cell_type": "code",
   "execution_count": null,
   "id": "32fbe4c6-1565-469c-baad-276be55cb057",
   "metadata": {},
   "outputs": [],
   "source": []
  }
 ],
 "metadata": {
  "kernelspec": {
   "display_name": "Python 3 (ipykernel)",
   "language": "python",
   "name": "python3"
  },
  "language_info": {
   "codemirror_mode": {
    "name": "ipython",
    "version": 3
   },
   "file_extension": ".py",
   "mimetype": "text/x-python",
   "name": "python",
   "nbconvert_exporter": "python",
   "pygments_lexer": "ipython3",
   "version": "3.10.13"
  }
 },
 "nbformat": 4,
 "nbformat_minor": 5
}
